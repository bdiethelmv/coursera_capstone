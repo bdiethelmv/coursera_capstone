{
 "cells": [
  {
   "cell_type": "markdown",
   "id": "54d3cdfb-06d4-4ecd-ae63-a11927e28f49",
   "metadata": {},
   "source": [
    "# IBM Data Science Professional Certificate capstone project\n",
    "This notebook contains work towards the Professional Certificate capstone project"
   ]
  },
  {
   "cell_type": "code",
   "execution_count": 1,
   "id": "ce18f39d-7e4b-454f-a32c-6574794c61f4",
   "metadata": {},
   "outputs": [],
   "source": [
    "import pandas as pd\n",
    "import numpy as np"
   ]
  },
  {
   "cell_type": "code",
   "execution_count": 2,
   "id": "293299a9-2a99-48d9-a805-07e412a09d09",
   "metadata": {},
   "outputs": [
    {
     "name": "stdout",
     "output_type": "stream",
     "text": [
      "Hello Capstone Project Course!\n"
     ]
    }
   ],
   "source": [
    "print('Hello Capstone Project Course!')"
   ]
  },
  {
   "cell_type": "code",
   "execution_count": null,
   "id": "9d5015b5-f6d4-41f9-9570-9a83e16659d5",
   "metadata": {},
   "outputs": [],
   "source": []
  }
 ],
 "metadata": {
  "kernelspec": {
   "display_name": "Python 3",
   "language": "python",
   "name": "python3"
  },
  "language_info": {
   "codemirror_mode": {
    "name": "ipython",
    "version": 3
   },
   "file_extension": ".py",
   "mimetype": "text/x-python",
   "name": "python",
   "nbconvert_exporter": "python",
   "pygments_lexer": "ipython3",
   "version": "3.9.2"
  }
 },
 "nbformat": 4,
 "nbformat_minor": 5
}
