{
 "cells": [
  {
   "cell_type": "markdown",
   "id": "8f50ffba-a8d8-435c-8c7b-cba2e7acb511",
   "metadata": {},
   "source": [
    "# Coursera Capstone Project Report"
   ]
  },
  {
   "cell_type": "markdown",
   "id": "1e3d0aba-23c4-4378-913a-fad942511209",
   "metadata": {},
   "source": [
    "## Introduction and business problem\n",
    "The 2020 Global Cities index firmly positions New York City (NYC), as the top global metropolis, preserving this position from the previous year ranking (source: https://www.kearney.com/global-cities/2020). Therefore, as a global city, NYC is a prime location for new startup businesses. However, lease space in global cities is limited and expensive, so prospective business owners should use quality data to inform their venue-opening decisions. This report attempts to provide guidance by offering a segmentation of the neighborhoods in NYC based on their venue composition. A prospective entrepeneur can leverage this information to make a business decision that optimizes resources.\n",
    "\n",
    "The present document is thus specifically meant for entrepeneurs looking to open a business in the city of New York. The data analyses done here address the question: Which type of neighborhood should I choose to open my business? In order to provide a recommendation, the data analyses offer a machine learning-based segmentation of neighborhoods in various categories based on their most prevalent venues and services. Prospective business owners can use this information to prioritize their buying or leasing decisions.\n",
    "\n",
    "Please note that an analysis of the property prices per neighborhood is not on the scope of this document. It is expected that, after identifying their preferred type of neighborhood based on venue composition, prospective business owners should seek additional data sources to identify their most cost-effective solution."
   ]
  },
  {
   "cell_type": "code",
   "execution_count": null,
   "id": "fa3a06bb-ba9a-40fe-941a-52e22d280803",
   "metadata": {},
   "outputs": [],
   "source": []
  }
 ],
 "metadata": {
  "kernelspec": {
   "display_name": "Python 3",
   "language": "python",
   "name": "python3"
  },
  "language_info": {
   "codemirror_mode": {
    "name": "ipython",
    "version": 3
   },
   "file_extension": ".py",
   "mimetype": "text/x-python",
   "name": "python",
   "nbconvert_exporter": "python",
   "pygments_lexer": "ipython3",
   "version": "3.9.2"
  }
 },
 "nbformat": 4,
 "nbformat_minor": 5
}
